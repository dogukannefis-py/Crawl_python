{
 "cells": [
  {
   "cell_type": "code",
   "execution_count": 5,
   "metadata": {},
   "outputs": [],
   "source": [
    "from bs4 import BeautifulSoup\n",
    "import datetime\n",
    "import pandas as pd\n",
    "import requests\n",
    "import numpy as np\n",
    "import os\n",
    "from urllib.request import urlopen as uReq \n",
    "    \n"
   ]
  },
  {
   "cell_type": "code",
   "execution_count": 6,
   "metadata": {},
   "outputs": [
    {
     "name": "stdout",
     "output_type": "stream",
     "text": [
      "Aklındaki projelerde\r\n",
      "arkadaşların tarafından\r\n",
      "destekleniyorsun. İlişkisi\r\n",
      "olan bir Koç burcuysan uzun zamandır\r\n",
      "kaçtığın konuları konuşabilirsin.\n"
     ]
    }
   ],
   "source": [
    "page_url = 'https://www.sabah.com.tr/astroloji/koc-burcu-gunluk-yorum'\n",
    "#Get the actual html content of the webpage\n",
    "uClient=uReq(page_url)\n",
    "page_html=uClient.read()\n",
    "soup = BeautifulSoup(page_html, \"html.parser\")\n",
    "soup = soup.find('div', 'yorumMain')\n",
    "soup = soup.find('p').string\n",
    "\n",
    "print(soup)"
   ]
  },
  {
   "cell_type": "code",
   "execution_count": 4,
   "metadata": {},
   "outputs": [],
   "source": [
    "uClient.close()"
   ]
  },
  {
   "cell_type": "code",
   "execution_count": 8,
   "metadata": {},
   "outputs": [
    {
     "name": "stdout",
     "output_type": "stream",
     "text": [
      "koc\n",
      "boga\n",
      "ikizler\n",
      "yengec\n",
      "aslan\n",
      "basak\n",
      "terazi\n",
      "akrep\n",
      "yay\n",
      "oglak\n",
      "kova\n",
      "balik\n"
     ]
    },
    {
     "ename": "AttributeError",
     "evalue": "'list' object has no attribute 'head'",
     "output_type": "error",
     "traceback": [
      "\u001b[1;31m---------------------------------------------------------------------------\u001b[0m",
      "\u001b[1;31mAttributeError\u001b[0m                            Traceback (most recent call last)",
      "\u001b[1;32m<ipython-input-8-d83418a3fa4e>\u001b[0m in \u001b[0;36m<module>\u001b[1;34m\u001b[0m\n\u001b[0;32m     36\u001b[0m \u001b[1;33m\u001b[0m\u001b[0m\n\u001b[0;32m     37\u001b[0m \u001b[0mdf4\u001b[0m \u001b[1;33m=\u001b[0m \u001b[0mdf\u001b[0m\u001b[1;33m.\u001b[0m\u001b[0mto_dict\u001b[0m\u001b[1;33m(\u001b[0m\u001b[1;34m'records'\u001b[0m\u001b[1;33m)\u001b[0m\u001b[1;33m\u001b[0m\u001b[1;33m\u001b[0m\u001b[0m\n\u001b[1;32m---> 38\u001b[1;33m \u001b[0mdf4\u001b[0m\u001b[1;33m.\u001b[0m\u001b[0mhead\u001b[0m\u001b[1;33m(\u001b[0m\u001b[1;33m)\u001b[0m\u001b[1;33m\u001b[0m\u001b[1;33m\u001b[0m\u001b[0m\n\u001b[0m",
      "\u001b[1;31mAttributeError\u001b[0m: 'list' object has no attribute 'head'"
     ]
    }
   ],
   "source": [
    "baseurl = 'https://www.sabah.com.tr/astroloji/'\n",
    "signs = ['koc', 'boga', 'ikizler', 'yengec', 'aslan', 'basak', 'terazi', 'akrep', 'yay', 'oglak', 'kova', 'balik']\n",
    "\n",
    "day = datetime.datetime.today()\n",
    "\n",
    "scope = []\n",
    "zodiac = []\n",
    "pub_date = []\n",
    "\n",
    "for sign in signs:\n",
    "    print (sign)\n",
    "    \n",
    "    url = baseurl + sign + '-' + 'burcu-gunluk-yorum'+'/'\n",
    "    page = requests.get(url)\n",
    "    if not page.ok:\n",
    "        continue\n",
    "    try:\n",
    "        uClient=uReq(url)\n",
    "        page_html=uClient.read()\n",
    "        soup = BeautifulSoup(page_html, \"html.parser\")\n",
    "        soup = soup.find('div', 'yorumMain')\n",
    "        soup = soup.find('p').string\n",
    "\n",
    "        scope.append(soup) ## soup'u scope dizisine ekle\n",
    "        zodiac.append(sign)\n",
    "        pub_date.append(day.strftime('%m-%d-%Y'))\n",
    "    except:\n",
    "        scope.append(np.nan)   \n",
    "        zodiac.append(sign)\n",
    "        pub_date.append(day.strftime('%m-%d-%Y'))\n",
    "            \n",
    "df = pd.DataFrame({'horoscope' : scope,\n",
    "                   'zodiac' : zodiac,\n",
    "                   'pub_date' : pub_date})\n",
    "                   \n",
    "    \n",
    "df4 = df.to_dict('records')\n",
    "df4"
   ]
  },
  {
   "cell_type": "code",
   "execution_count": 9,
   "metadata": {},
   "outputs": [
    {
     "data": {
      "text/plain": [
       "[{'horoscope': 'Aklındaki projelerde\\r\\narkadaşların tarafından\\r\\ndestekleniyorsun. İlişkisi\\r\\nolan bir Koç burcuysan uzun zamandır\\r\\nkaçtığın konuları konuşabilirsin.',\n",
       "  'zodiac': 'koc',\n",
       "  'pub_date': '05-16-2020'},\n",
       " {'horoscope': 'Sorumluluklarının\\r\\ndaha da artması gün\\r\\niçinde yorulmana neden\\r\\nolabilir. İnternetten yaptığın alışverişler\\r\\nile ilgili sorun yaşayabilirsin.',\n",
       "  'zodiac': 'boga',\n",
       "  'pub_date': '05-16-2020'},\n",
       " {'horoscope': 'İlişkisi olmayan\\r\\nbir İkizler burcuysan\\r\\nsenden\\r\\nhoşlanan birine şans verebilirsin.\\r\\nMali konularda planlama yapıyorsun.',\n",
       "  'zodiac': 'ikizler',\n",
       "  'pub_date': '05-16-2020'},\n",
       " {'horoscope': 'Kendi işinin sahibi\\r\\nbir Yengeç\\r\\nburcuysan, iş\\r\\nyerinde kontrolün dışında gelişen\\r\\nolaylar seni rahatsız edebilir.',\n",
       "  'zodiac': 'yengec',\n",
       "  'pub_date': '05-16-2020'},\n",
       " {'horoscope': 'İşleri çok ağırdan\\r\\nalıyor olman çalışma\\r\\narkadaşların ile\\r\\nproblem yaşamana neden olabilir. Bu\\r\\nkonuda çaba göstermelisin.',\n",
       "  'zodiac': 'aslan',\n",
       "  'pub_date': '05-16-2020'},\n",
       " {'horoscope': 'Arkadaşlarının\\r\\nsana karşı eleştirel\\r\\nyaklaşımı seni\\r\\nüzebilir. Fakat kendin ile barışık olmalı\\r\\nve özgüvenini korumalısın.',\n",
       "  'zodiac': 'basak',\n",
       "  'pub_date': '05-16-2020'},\n",
       " {'horoscope': 'İş yerinde arkadaşlarınla\\r\\nortak fikirde\\r\\nolman çalışmalarını\\r\\nkolaylaştırıyor. Emek verdiğin projelerin\\r\\nkazanç sağlaması seni mutlu ediyor.',\n",
       "  'zodiac': 'terazi',\n",
       "  'pub_date': '05-16-2020'},\n",
       " {'horoscope': 'Maddi açıdan kazancını\\r\\nartırmak istiyorsun.\\r\\nİlişkisi olan bir Akrep\\r\\nburcuysan ilişkinin geleceği için yeni kararlar\\r\\nalman karşı tarafı panikletebilir.',\n",
       "  'zodiac': 'akrep',\n",
       "  'pub_date': '05-16-2020'},\n",
       " {'horoscope': 'İlişkisi olan bir Yay burcuysan\\r\\nevlilik fikri konusunda\\r\\naceleci davranmak istemiyorsun.\\r\\nAilen ile yaşadığın sorunların\\r\\ntek tek çözüme kavuşuyor.',\n",
       "  'zodiac': 'yay',\n",
       "  'pub_date': '05-16-2020'},\n",
       " {'horoscope': 'Bir arkadaşının ilişkisini\\r\\nkurtarmak için çabalayabilirsin.\\r\\nBaşkalarının\\r\\nsıkıntıları ile uğraşman kendi sorunlarından\\r\\nuzaklaşmana neden olabilir.',\n",
       "  'zodiac': 'oglak',\n",
       "  'pub_date': '05-16-2020'},\n",
       " {'horoscope': 'Güne gergin başlasan da\\r\\niş yerinde ve ilişkindeki\\r\\nolumlu gelişmeler moralini\\r\\nyerine getiriyor. Çevrende olan\\r\\nsorunlara kayıtsız kalamıyorsun.',\n",
       "  'zodiac': 'kova',\n",
       "  'pub_date': '05-16-2020'},\n",
       " {'horoscope': 'Geçmişte çok iyi anılarının\\r\\nolmadığı bir\\r\\nkişi iletişime geçmek\\r\\nisteyebilir. Fakat edindiğin tecrübeler\\r\\nbunun yanlış olduğunu sana hatırlatıyor.',\n",
       "  'zodiac': 'balik',\n",
       "  'pub_date': '05-16-2020'}]"
      ]
     },
     "execution_count": 9,
     "metadata": {},
     "output_type": "execute_result"
    }
   ],
   "source": [
    "df4"
   ]
  },
  {
   "cell_type": "code",
   "execution_count": 15,
   "metadata": {},
   "outputs": [],
   "source": [
    "uClient.close()"
   ]
  },
  {
   "cell_type": "code",
   "execution_count": 14,
   "metadata": {},
   "outputs": [
    {
     "data": {
      "text/plain": [
       "['İlişkisi olan bir Koç\\r\\nburcuysan, aldığın yeni\\r\\nkararlar karşı tarafı\\r\\nhuzursuz edebilir. Maddi konular ile\\r\\ndaha fazla ilgilenmen gerekiyor.',\n",
       " 'Bazı arkadaşlarınla\\r\\npaylaştığın sırlarının\\r\\nortaya döküldüğünü\\r\\nöğrenebilirsin. Hayal kırıklıklarının\\r\\nbir tecrübe olduğunu biliyorsun.',\n",
       " 'İlişkinde karşı\\r\\ntarafa daha\\r\\nanlayışlı yaklaşıyorsun.\\r\\nBugün ilgiye ve sevgiye daha\\r\\nfazla ihtiyaç duyabilirsin.',\n",
       " 'Yaşadığın sıkıntıların\\r\\naldığın\\r\\nönlemler sayesinde\\r\\nortadan kalkması, ruhsal\\r\\nolarak rahatlamanı sağlıyor.',\n",
       " 'İş için yaptığın konferans\\r\\ngörüşmelerinde\\r\\ndaha fazla söz hakkı\\r\\nalıyorsun. Özgüvenli oluşun patronların\\r\\ntarafından takdir edilebilir.',\n",
       " 'Yeni biten bir ilişkisi\\r\\nolan Başak\\r\\nburcuysan özlem\\r\\nduygun artabilir. Fakat gururun karşı\\r\\ntarafa adım atmana engel olabilir.',\n",
       " 'Güne mutlu olacağın\\r\\nhaberler alarak\\r\\nbaşlayabilirsin.\\r\\nİşinle alakalı yoğunluktan dolayı kendini\\r\\nyorgun hissedebilirsin.',\n",
       " 'Keskin zekanı sezgilerin\\r\\nile birleştirdiğin\\r\\ntaktirde iş hayatında\\r\\nbaşarılı olabilirsin. Duygusal açıdan\\r\\nyorgun hissediyorsun.',\n",
       " 'Çevrendeki kişilerin verdiği\\r\\nsözleri tutmadığına\\r\\nşahit olabilirsin. Arkadaşların\\r\\narasında olan münakaşalarda\\r\\ntaraf olmak istemiyorsun.',\n",
       " 'Kendi sıkıntılarından\\r\\nbaşını kaldırıp\\r\\netrafına bakman\\r\\nçevrende olup bitenleri daha net görmeni\\r\\nsağlayabilir.',\n",
       " 'Şüpheciliği bırakmıyor\\r\\nolman gelecek ile ilgili\\r\\naldığın kararları olumsuz\\r\\netkiliyor. Arkadaşların ile konuşurken\\r\\ndaha dinleyici taraf olabilirsin.',\n",
       " 'Kendini yorgun hissedebilirsin.\\r\\nÜzerindeki\\r\\nağırlıklardan,\\r\\nkalbini yoran sorumluluklardan arınmak\\r\\nisteyebilirsin.']"
      ]
     },
     "execution_count": 14,
     "metadata": {},
     "output_type": "execute_result"
    }
   ],
   "source": [
    "scope"
   ]
  },
  {
   "cell_type": "code",
   "execution_count": null,
   "metadata": {},
   "outputs": [],
   "source": []
  }
 ],
 "metadata": {
  "kernelspec": {
   "display_name": "Python 3",
   "language": "python",
   "name": "python3"
  },
  "language_info": {
   "codemirror_mode": {
    "name": "ipython",
    "version": 3
   },
   "file_extension": ".py",
   "mimetype": "text/x-python",
   "name": "python",
   "nbconvert_exporter": "python",
   "pygments_lexer": "ipython3",
   "version": "3.7.3"
  }
 },
 "nbformat": 4,
 "nbformat_minor": 2
}
