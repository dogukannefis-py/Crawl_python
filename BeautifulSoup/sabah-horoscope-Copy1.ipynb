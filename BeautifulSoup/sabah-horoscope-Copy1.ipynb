{
 "cells": [
  {
   "cell_type": "code",
   "execution_count": 1,
   "metadata": {},
   "outputs": [],
   "source": [
    "from bs4 import BeautifulSoup\n",
    "import datetime\n",
    "import pandas as pd\n",
    "import requests\n",
    "import numpy as np\n",
    "import os\n",
    "from urllib.request import urlopen as uReq \n",
    "    \n"
   ]
  },
  {
   "cell_type": "code",
   "execution_count": 2,
   "metadata": {},
   "outputs": [
    {
     "name": "stdout",
     "output_type": "stream",
     "text": [
      "Halletmen gereken küçük\r\n",
      "çaplı işlere başlamak\r\n",
      "ve zaman ayırmak gözünde\r\n",
      "büyüyebilir. Yapacağın bir telefon\r\n",
      "görüşmesi seni düşündürebilir.\n"
     ]
    }
   ],
   "source": [
    "page_url = 'https://www.sabah.com.tr/astroloji/koc-burcu-gunluk-yorum'\n",
    "#Get the actual html content of the webpage\n",
    "uClient=uReq(page_url)\n",
    "page_html=uClient.read()\n",
    "soup = BeautifulSoup(page_html, \"html.parser\")\n",
    "soup = soup.find('div', 'yorumMain')\n",
    "soup = soup.find('p').string\n",
    "\n",
    "print(soup)"
   ]
  },
  {
   "cell_type": "code",
   "execution_count": 3,
   "metadata": {},
   "outputs": [],
   "source": [
    "uClient.close()"
   ]
  },
  {
   "cell_type": "code",
   "execution_count": 13,
   "metadata": {},
   "outputs": [
    {
     "name": "stdout",
     "output_type": "stream",
     "text": [
      "koc\n",
      "boga\n",
      "ikizler\n",
      "yengec\n",
      "aslan\n",
      "basak\n",
      "terazi\n",
      "akrep\n",
      "yay\n",
      "oglak\n",
      "kova\n",
      "balik\n"
     ]
    }
   ],
   "source": [
    "baseurl = 'https://www.sabah.com.tr/astroloji/'\n",
    "signs = ['koc', 'boga', 'ikizler', 'yengec', 'aslan', 'basak', 'terazi', 'akrep', 'yay', 'oglak', 'kova', 'balik']\n",
    "\n",
    "day = datetime.datetime.today()\n",
    "\n",
    "scope = []\n",
    "zodiac = []\n",
    "pub_date = []\n",
    "\n",
    "for sign in signs:\n",
    "    print (sign)\n",
    "    \n",
    "    url = baseurl + sign + '-' + 'burcu-gunluk-yorum'+'/'\n",
    "    page = requests.get(url)\n",
    "    if not page.ok:\n",
    "        continue\n",
    "    try:\n",
    "        uClient=uReq(url)\n",
    "        page_html=uClient.read()\n",
    "        soup = BeautifulSoup(page_html, \"html.parser\")\n",
    "        soup = soup.find('div', 'yorumMain')\n",
    "        soup = soup.find('p').string\n",
    "\n",
    "        scope.append(soup) ## soup'u scope dizisine ekle\n",
    "        zodiac.append(sign)\n",
    "        pub_date.append(day.strftime('%m-%d-%Y'))\n",
    "    except:\n",
    "        scope.append(np.nan)   \n",
    "        zodiac.append(sign)\n",
    "        pub_date.append(day.strftime('%m-%d-%Y'))\n",
    "            \n",
    "df = pd.DataFrame({'horoscope' : scope,\n",
    "                   'zodiac' : zodiac,\n",
    "                   'pub_date' : pub_date})\n",
    "                   \n",
    "df.to_csv('sabah_gunluk.csv', sep='|')"
   ]
  },
  {
   "cell_type": "code",
   "execution_count": 15,
   "metadata": {},
   "outputs": [],
   "source": [
    "uClient.close()"
   ]
  },
  {
   "cell_type": "code",
   "execution_count": 14,
   "metadata": {},
   "outputs": [
    {
     "data": {
      "text/plain": [
       "['İlişkisi olan bir Koç\\r\\nburcuysan, aldığın yeni\\r\\nkararlar karşı tarafı\\r\\nhuzursuz edebilir. Maddi konular ile\\r\\ndaha fazla ilgilenmen gerekiyor.',\n",
       " 'Bazı arkadaşlarınla\\r\\npaylaştığın sırlarının\\r\\nortaya döküldüğünü\\r\\nöğrenebilirsin. Hayal kırıklıklarının\\r\\nbir tecrübe olduğunu biliyorsun.',\n",
       " 'İlişkinde karşı\\r\\ntarafa daha\\r\\nanlayışlı yaklaşıyorsun.\\r\\nBugün ilgiye ve sevgiye daha\\r\\nfazla ihtiyaç duyabilirsin.',\n",
       " 'Yaşadığın sıkıntıların\\r\\naldığın\\r\\nönlemler sayesinde\\r\\nortadan kalkması, ruhsal\\r\\nolarak rahatlamanı sağlıyor.',\n",
       " 'İş için yaptığın konferans\\r\\ngörüşmelerinde\\r\\ndaha fazla söz hakkı\\r\\nalıyorsun. Özgüvenli oluşun patronların\\r\\ntarafından takdir edilebilir.',\n",
       " 'Yeni biten bir ilişkisi\\r\\nolan Başak\\r\\nburcuysan özlem\\r\\nduygun artabilir. Fakat gururun karşı\\r\\ntarafa adım atmana engel olabilir.',\n",
       " 'Güne mutlu olacağın\\r\\nhaberler alarak\\r\\nbaşlayabilirsin.\\r\\nİşinle alakalı yoğunluktan dolayı kendini\\r\\nyorgun hissedebilirsin.',\n",
       " 'Keskin zekanı sezgilerin\\r\\nile birleştirdiğin\\r\\ntaktirde iş hayatında\\r\\nbaşarılı olabilirsin. Duygusal açıdan\\r\\nyorgun hissediyorsun.',\n",
       " 'Çevrendeki kişilerin verdiği\\r\\nsözleri tutmadığına\\r\\nşahit olabilirsin. Arkadaşların\\r\\narasında olan münakaşalarda\\r\\ntaraf olmak istemiyorsun.',\n",
       " 'Kendi sıkıntılarından\\r\\nbaşını kaldırıp\\r\\netrafına bakman\\r\\nçevrende olup bitenleri daha net görmeni\\r\\nsağlayabilir.',\n",
       " 'Şüpheciliği bırakmıyor\\r\\nolman gelecek ile ilgili\\r\\naldığın kararları olumsuz\\r\\netkiliyor. Arkadaşların ile konuşurken\\r\\ndaha dinleyici taraf olabilirsin.',\n",
       " 'Kendini yorgun hissedebilirsin.\\r\\nÜzerindeki\\r\\nağırlıklardan,\\r\\nkalbini yoran sorumluluklardan arınmak\\r\\nisteyebilirsin.']"
      ]
     },
     "execution_count": 14,
     "metadata": {},
     "output_type": "execute_result"
    }
   ],
   "source": [
    "scope"
   ]
  },
  {
   "cell_type": "code",
   "execution_count": null,
   "metadata": {},
   "outputs": [],
   "source": []
  }
 ],
 "metadata": {
  "kernelspec": {
   "display_name": "Python 3",
   "language": "python",
   "name": "python3"
  },
  "language_info": {
   "codemirror_mode": {
    "name": "ipython",
    "version": 3
   },
   "file_extension": ".py",
   "mimetype": "text/x-python",
   "name": "python",
   "nbconvert_exporter": "python",
   "pygments_lexer": "ipython3",
   "version": "3.7.3"
  }
 },
 "nbformat": 4,
 "nbformat_minor": 2
}
