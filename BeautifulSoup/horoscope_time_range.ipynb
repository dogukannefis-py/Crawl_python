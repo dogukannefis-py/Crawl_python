{
 "cells": [
  {
   "cell_type": "code",
   "execution_count": 6,
   "metadata": {},
   "outputs": [],
   "source": [
    "from bs4 import BeautifulSoup\n",
    "import datetime\n",
    "import pandas as pd\n",
    "import requests\n",
    "import numpy as np\n",
    "import os\n",
    "from urllib.request import urlopen as uReq \n",
    "    \n"
   ]
  },
  {
   "cell_type": "code",
   "execution_count": 7,
   "metadata": {},
   "outputs": [
    {
     "name": "stdout",
     "output_type": "stream",
     "text": [
      "Yes, some of your dreams have taken a bit of a knock of late but it’s not the end of the world so keep smiling and keep striving. As one opportunity ends so another will present itself, but you won’t see it if you’re looking in the wrong direction.\n"
     ]
    }
   ],
   "source": [
    "page_url = 'http://nypost.com/horoscope/aries-12-01-2013/'\n",
    "#Get the actual html content of the webpage\n",
    "uClient=uReq(page_url)\n",
    "page_html=uClient.read()\n",
    "soup = BeautifulSoup(page_html, \"html.parser\")\n",
    "soup = soup.find('div', 'entry-content')\n",
    "soup = soup.find('p').string\n",
    "\n",
    "print(soup)"
   ]
  },
  {
   "cell_type": "code",
   "execution_count": 8,
   "metadata": {},
   "outputs": [],
   "source": [
    "uClient.close()"
   ]
  },
  {
   "cell_type": "code",
   "execution_count": 11,
   "metadata": {},
   "outputs": [
    {
     "data": {
      "text/plain": [
       "datetime.datetime(2019, 12, 1, 0, 0)"
      ]
     },
     "execution_count": 11,
     "metadata": {},
     "output_type": "execute_result"
    }
   ],
   "source": [
    "start = pd.datetime(2019,12,1)\n",
    "start"
   ]
  },
  {
   "cell_type": "code",
   "execution_count": 14,
   "metadata": {},
   "outputs": [
    {
     "name": "stdout",
     "output_type": "stream",
     "text": [
      "aries\n",
      "taurus\n",
      "gemini\n",
      "cancer\n",
      "leo\n",
      "virgo\n",
      "libra\n",
      "scorpio\n",
      "sagittarius\n",
      "capricorn\n",
      "aquarius\n",
      "pisces\n"
     ]
    }
   ],
   "source": [
    "baseurl = 'http://nypost.com/horoscope/'\n",
    "signs = ['aries', 'taurus', 'gemini', 'cancer', 'leo', 'virgo', 'libra', 'scorpio', 'sagittarius', 'capricorn', 'aquarius', 'pisces']\n",
    "\n",
    "start = pd.datetime(2020,4,28)\n",
    "end = datetime.datetime.today()\n",
    "rng = pd.date_range(start, end) ## veri cekilecek zaman aralıgı\n",
    "\n",
    "scope = []\n",
    "zodiac = []\n",
    "pub_date = []\n",
    "\n",
    "for sign in signs:\n",
    "    print (sign)\n",
    "    for day in rng:\n",
    "        url = baseurl + sign + '-' + day.strftime('%m-%d-%Y') + '/'\n",
    "        page = requests.get(url)\n",
    "        if not page.ok:\n",
    "            continue\n",
    "        try:\n",
    "            uClient=uReq(url)\n",
    "            page_html=uClient.read()\n",
    "            soup = BeautifulSoup(page_html, \"html.parser\")\n",
    "            soup = soup.find('div', 'entry-content')\n",
    "            soup = soup.find('p').string\n",
    "\n",
    "            scope.append(soup) ## soup'u scope dizisine ekle\n",
    "            zodiac.append(sign)\n",
    "            pub_date.append(day.strftime('%m-%d-%Y'))\n",
    "        except:\n",
    "            scope.append(np.nan)   \n",
    "            zodiac.append(sign)\n",
    "            pub_date.append(day.strftime('%m-%d-%Y'))\n",
    "            \n",
    "df = pd.DataFrame({'horoscope' : scope,\n",
    "                   'zodiac' : zodiac,\n",
    "                   'pub_date' : pub_date})\n",
    "                   \n",
    "df.to_csv('astroscope.csv', sep='|')"
   ]
  },
  {
   "cell_type": "code",
   "execution_count": null,
   "metadata": {},
   "outputs": [],
   "source": []
  }
 ],
 "metadata": {
  "kernelspec": {
   "display_name": "Python 3",
   "language": "python",
   "name": "python3"
  },
  "language_info": {
   "codemirror_mode": {
    "name": "ipython",
    "version": 3
   },
   "file_extension": ".py",
   "mimetype": "text/x-python",
   "name": "python",
   "nbconvert_exporter": "python",
   "pygments_lexer": "ipython3",
   "version": "3.7.3"
  }
 },
 "nbformat": 4,
 "nbformat_minor": 2
}
